{
  "nbformat": 4,
  "nbformat_minor": 0,
  "metadata": {
    "colab": {
      "name": "Untitled3.ipynb",
      "provenance": [],
      "collapsed_sections": []
    },
    "kernelspec": {
      "name": "python3",
      "display_name": "Python 3"
    },
    "language_info": {
      "name": "python"
    }
  },
  "cells": [
    {
      "cell_type": "code",
      "metadata": {
        "id": "mPksshOtf1uh"
      },
      "source": [
        "from tic_tac_toe import TicTacToe\n",
        "from gym import make\n",
        "\n",
        "import numpy as np\n",
        "import torch\n",
        "from torch import nn\n",
        "from torch.nn import functional as F\n",
        "from torch.optim import Adam\n",
        "from collections import deque, namedtuple\n",
        "import random\n",
        "import copy\n",
        "import matplotlib.pyplot as plt\n",
        "\n",
        "\n",
        "%matplotlib inline\n",
        "plt.style.use('ggplot')\n",
        "from IPython.display import clear_output\n",
        "import matplotlib\n",
        "from collections import defaultdict\n",
        "from abc import ABC, abstractmethod\n",
        "import math\n",
        "\n",
        "random.seed(0)"
      ],
      "execution_count": 26,
      "outputs": []
    },
    {
      "cell_type": "markdown",
      "metadata": {
        "id": "lcaXEajWfYgN"
      },
      "source": [
        "# Часть первая: крестики-нолики при помощи Q-обучения #\n",
        "В коде, прилагающемся к последней лекции про обучение с подкреплением, реализован Environment для крестиков-ноликов, в котором можно при инициализации указывать разные размеры доски и условия победы, а также функции для рисования, в том числе с указанием оценки различных действий. С этим окружением все задания и связаны.\n",
        "1. Реализуйте обычное (табличное) Q-обучение. Обучите стратегии крестиков и ноликов для доски 3х3.\n",
        "\n",
        "\n",
        "\n"
      ]
    },
    {
      "cell_type": "code",
      "metadata": {
        "id": "J785ZwLwmdrr"
      },
      "source": [
        "class QLearning():\n",
        "    def __init__(self, env, lr=0.95, gamma=0.99, n_iter=1000,\n",
        "                        info_freq=40000, action_space=9):\n",
        "        self.lr = lr\n",
        "        self.gamma = gamma\n",
        "        self.n_iter = n_iter\n",
        "        self.info_freq = info_freq\n",
        "        self.Q = defaultdict(lambda: np.zeros(action_space))\n",
        "        self.mean_rewards = []\n",
        "        self.env = env\n",
        "\n",
        "    def act(self, state):\n",
        "        available_actions = self.env.getEmptySpaces()\n",
        "        num_available_actions = len(available_actions) \n",
        "        action_idx = int(np.argmax(self.Q[state]))\n",
        "        action = self.env.action_from_int(action_idx) \n",
        "        q_value = self.Q[state][action_idx]        \n",
        "        return q_value, action, action_idx\n",
        "\n",
        "    def train(self):\n",
        "        done = 0\n",
        "        episode_reward = 0\n",
        "        self.env.reset()\n",
        "        init_state = self.env.getHash()\n",
        "        cur_mean_reward = 0\n",
        "\n",
        "        for iter_num in range(self.n_iter):            \n",
        "            while not done:\n",
        "                q_value, action, action_idx = self.act(init_state)\n",
        "\n",
        "                new_state, reward, done, info = self.env.step(action)\n",
        "                episode_reward = episode_reward + reward\n",
        "\n",
        "                new_state = new_state[0]\n",
        "                next_q_value, _, _ = self.act(new_state)\n",
        "                self.Q[init_state][action_idx] = (1 - self.lr) * q_value + self.lr * (reward + self.gamma * next_q_value)\n",
        "\n",
        "                init_state = new_state\n",
        "\n",
        "            cur_mean_reward = (iter_num * cur_mean_reward + episode_reward) / (iter_num + 1)\n",
        "            self.mean_rewards.append(cur_mean_reward)\n",
        "            init_state = self.env.reset()\n",
        "            done = 0\n",
        "            episode_reward = 0\n",
        "\n",
        "            if (iter_num % self.info_freq) == 0:\n",
        "                print(f'Average reward at iteration {iter_num}: {cur_mean_reward}')"
      ],
      "execution_count": 2,
      "outputs": []
    },
    {
      "cell_type": "code",
      "metadata": {
        "colab": {
          "base_uri": "https://localhost:8080/"
        },
        "id": "OJE3svS1535Y",
        "outputId": "6dcb6d54-a3f1-4817-f76a-8fd4e0dc2ff7"
      },
      "source": [
        "env = TicTacToe(n_rows=3, n_cols=3, n_win=3)\n",
        "q_learning_model = QLearning(env=env, n_iter=200001, info_freq=20000, action_space=9)\n",
        "\n",
        "q_learning_model.train()"
      ],
      "execution_count": 6,
      "outputs": [
        {
          "output_type": "stream",
          "name": "stdout",
          "text": [
            "Average reward at iteration 0: -10.0\n",
            "Average reward at iteration 20000: 0.9884505774711264\n",
            "Average reward at iteration 40000: 0.9942251443713905\n",
            "Average reward at iteration 60000: 0.9961500641655971\n",
            "Average reward at iteration 80000: 0.9971125360932989\n",
            "Average reward at iteration 100000: 0.997690023099769\n",
            "Average reward at iteration 120000: 0.998075016041533\n",
            "Average reward at iteration 140000: 0.9983500117856301\n",
            "Average reward at iteration 160000: 0.9985562590233811\n",
            "Average reward at iteration 180000: 0.9987166737962567\n",
            "Average reward at iteration 200000: 0.9988450057749712\n"
          ]
        }
      ]
    },
    {
      "cell_type": "code",
      "metadata": {
        "colab": {
          "base_uri": "https://localhost:8080/",
          "height": 299
        },
        "id": "PC7ZXTMg9E39",
        "outputId": "a172521c-4878-4674-d113-d193d3467068"
      },
      "source": [
        "def show_rewards(avg_rewards):\n",
        "    iterations=np.arange(0, len(avg_rewards))\n",
        "    fig, ax = plt.subplots(1, 1)\n",
        "    ax.scatter(iterations, avg_rewards, s=5)\n",
        "    ax.set_xlabel('iteration')\n",
        "    ax.set_ylabel('reward')\n",
        "    _ = ax.set_title('Q-learning 3*3 TicTacToe')\n",
        "\n",
        "show_rewards(q_learning_model.mean_rewards)"
      ],
      "execution_count": 7,
      "outputs": [
        {
          "output_type": "display_data",
          "data": {
            "image/png": "[encoded data removed]",
            "text/plain": [
              "<Figure size 432x288 with 1 Axes>"
            ]
          },
          "metadata": {
            "needs_background": "light"
          }
        }
      ]
    },
    {
      "cell_type": "markdown",
      "metadata": {
        "id": "-ZYzrM_rgqib"
      },
      "source": [
        "2. Попробуйте обучить стратегии крестиков и ноликов для доски 4х4 и/или 5х5.\n",
        "\n",
        "Была использована доска 4x4.\n",
        "\n",
        "Гораздо медленнее, но все так же обучается."
      ]
    },
    {
      "cell_type": "code",
      "metadata": {
        "id": "kEt0HpSU7Jwe",
        "colab": {
          "base_uri": "https://localhost:8080/"
        },
        "outputId": "498ba58a-5a8b-4c47-eede-5e9f9884486b"
      },
      "source": [
        "env = TicTacToe(n_rows=4, n_cols=4, n_win=4)\n",
        "q_learning_model = QLearning(env=env, n_iter=200001, info_freq=20000, action_space=16)\n",
        "\n",
        "q_learning_model.train()"
      ],
      "execution_count": 8,
      "outputs": [
        {
          "output_type": "stream",
          "name": "stdout",
          "text": [
            "Average reward at iteration 0: -10.0\n",
            "Average reward at iteration 20000: 0.9571021448927561\n",
            "Average reward at iteration 40000: 0.978550536236594\n",
            "Average reward at iteration 60000: 0.9857002383293612\n",
            "Average reward at iteration 80000: 0.9892751340608245\n",
            "Average reward at iteration 100000: 0.9914200857991422\n",
            "Average reward at iteration 120000: 0.9928500595828369\n",
            "Average reward at iteration 140000: 0.9938714723466261\n",
            "Average reward at iteration 160000: 0.9946375335154155\n",
            "Average reward at iteration 180000: 0.9952333598146677\n",
            "Average reward at iteration 200000: 0.9957100214498927\n"
          ]
        }
      ]
    },
    {
      "cell_type": "code",
      "metadata": {
        "id": "DXQtA2VQ7SC5",
        "colab": {
          "base_uri": "https://localhost:8080/",
          "height": 299
        },
        "outputId": "e9088477-545b-48c0-cd98-43295e6b7765"
      },
      "source": [
        "def show_rewards(avg_rewards):\n",
        "    iterations=np.arange(0, len(avg_rewards))\n",
        "    fig, ax = plt.subplots(1, 1)\n",
        "    ax.scatter(iterations, avg_rewards, s=5)\n",
        "    ax.set_xlabel('iteration')\n",
        "    ax.set_ylabel('reward')\n",
        "    _ = ax.set_title('Q-learning 4*4 TicTacToe')\n",
        "\n",
        "show_rewards(q_learning_model.mean_rewards)"
      ],
      "execution_count": 9,
      "outputs": [
        {
          "output_type": "display_data",
          "data": {
            "image/png": "[encoded data removed]",
            "text/plain": [
              "<Figure size 432x288 with 1 Axes>"
            ]
          },
          "metadata": {
            "needs_background": "light"
          }
        }
      ]
    },
    {
      "cell_type": "markdown",
      "metadata": {
        "id": "8aspT8Wj75vl"
      },
      "source": [
        "# Часть вторая: добавим нейронных сетей #\n",
        "Реализуйте нейронную сеть для метода DQN на доске для крестиков-ноликов. Не буду ограничивать фантазию, но кажется, что свёртки 3х3 здесь должны неплохо работать (в том числе обобщаться на доски размера побольше).\n"
      ]
    },
    {
      "cell_type": "markdown",
      "metadata": {
        "id": "XCWbSZnp8_Z6"
      },
      "source": [
        "1. Реализуйте DQN с нейронной сетью, обучите стратегии крестиков и ноликов. Замечание: скорее всего, experience replay потребуется сразу же.\n",
        "\n",
        "Основано на ДЗ курса Practical RL (MADE), https://github.com/ArgentumWalker/MADE-Practical-RL-homework-2021/tree/main/hw01_lunar_lander\n",
        "\n",
        "\n",
        "Работает нестабильно (средняя награда скачет), что согласуется с теорией. Обучается долго."
      ]
    },
    {
      "cell_type": "code",
      "metadata": {
        "id": "cEvFFb8k-uwP"
      },
      "source": [
        "GAMMA = 0.99\n",
        "INITIAL_STEPS = 1024\n",
        "TRANSITIONS = 1200000\n",
        "STEPS_PER_UPDATE = 4\n",
        "STEPS_PER_TARGET_UPDATE = STEPS_PER_UPDATE * 1000\n",
        "BATCH_SIZE = 64\n",
        "LEARNING_RATE = 5e-4\n",
        "device = torch.device(\"cuda:0\" if torch.cuda.is_available() else \"cpu\")\n",
        "\n",
        "Transition = namedtuple('Transition', ('state', 'action', 'next_state', 'reward', 'done'))\n",
        "\n",
        "class ExpirienceReplay:\n",
        "    def __init__(self, size=100000, seed=0):\n",
        "        self.data = deque(maxlen=size)\n",
        "        self.seed = random.seed(seed)        \n",
        "    \n",
        "    def add(self, transition):        \n",
        "        self.data.append(transition)\n",
        "        \n",
        "    def sample(self, size):\n",
        "        batch = random.sample(self.data, size)\n",
        "        states = torch.from_numpy(np.vstack([e.state for e in batch if e is not None])).float().to(device)\n",
        "        actions = torch.from_numpy(np.vstack([e.action for e in batch if e is not None])).long().to(device)        \n",
        "        next_states = torch.from_numpy(np.vstack([e.next_state for e in batch if e is not None])).float().to(device)\n",
        "        rewards = torch.from_numpy(np.vstack([e.reward for e in batch if e is not None])).float().to(device)\n",
        "        dones = torch.from_numpy(np.vstack([e.done for e in batch if e is not None]).astype(np.uint8)).float().to(device)\n",
        "        return (states, actions, rewards, next_states, dones)\n",
        "\n",
        "\n",
        "class DQNModel(nn.Module):\n",
        "    def __init__(self, state_dim, hidden_dim, action_dim):\n",
        "        super(DQNModel, self).__init__()\n",
        "        self.main = nn.Sequential(\n",
        "            nn.Linear(state_dim, hidden_dim),\n",
        "            nn.ReLU(inplace=True),\n",
        "            nn.Linear(hidden_dim, hidden_dim),\n",
        "            nn.ReLU(inplace=True),\n",
        "            nn.Linear(hidden_dim, action_dim)\n",
        "        )\n",
        "    \n",
        "    def forward(self, x):\n",
        "        return self.main(x)\n",
        "\n",
        "\n",
        "class DQN:\n",
        "    def __init__(self, state_dim, action_dim, batch_size=BATCH_SIZE, seed=0):\n",
        "        self.steps = 0 # Do not change        \n",
        "        self.buffer = ExpirienceReplay()\n",
        "        self.batch_size = batch_size        \n",
        "        self.seed = random.seed(seed)\n",
        "        \n",
        "        self.model = DQNModel(state_dim, 64, action_dim)\n",
        "        self.optimizer = Adam(self.model.parameters())\n",
        "\n",
        "    def consume_transition(self, transition):        \n",
        "        self.buffer.add(transition)\n",
        "\n",
        "    def sample_batch(self):\n",
        "        return self.buffer.sample(self.batch_size)\n",
        "        \n",
        "    def train_step(self, batch):\n",
        "        states, actions, rewards, next_states, dones = batch\n",
        "        # Get the action with max Q value\n",
        "        action_values = self.model(next_states).detach()\n",
        "        # Notes\n",
        "        # tensor.max(1)[0] returns the values, tensor.max(1)[1] will return indices\n",
        "        # unsqueeze operation --> np.reshape\n",
        "        # Here, we make it from torch.Size([64]) -> torch.Size([64, 1])\n",
        "        max_action_values = action_values.max(1)[0].unsqueeze(1)\n",
        "        \n",
        "        # If done just use reward, else update Q_target with discounted action values\n",
        "        Q_target = rewards + (GAMMA * max_action_values * (1 - dones))\n",
        "        Q_expected = self.model(states).gather(1, actions)\n",
        "        \n",
        "        # Calculate loss\n",
        "        loss = F.mse_loss(Q_expected, Q_target)\n",
        "        self.optimizer.zero_grad()\n",
        "        # backward pass\n",
        "        loss.backward()\n",
        "        # update weights\n",
        "        self.optimizer.step()\n",
        "\n",
        "\n",
        "    def act(self, state):\n",
        "        # Compute an action. Do not forget to turn state to a Tensor and then turn an action to a numpy array.\n",
        "        state = torch.from_numpy(state).float().unsqueeze(0).to(device)\n",
        "        self.model.eval()\n",
        "        with torch.no_grad():\n",
        "            action_values = self.model(state)\n",
        "        self.model.train()\n",
        "        return np.argmax(action_values.cpu().data.numpy())        \n",
        "    \n",
        "        \n",
        "    def update(self, transition):\n",
        "        # You don't need to change this\n",
        "        self.consume_transition(transition)\n",
        "        if self.steps % STEPS_PER_UPDATE == 0:\n",
        "            batch = self.sample_batch()\n",
        "            self.train_step(batch)\n",
        "        self.steps += 1\n",
        "\n",
        "    def save(self):\n",
        "        torch.save(self.model.state_dict(), \"agent.pkl\")\n",
        "\n",
        "def state_to_array(state_str):\n",
        "    return np.array([int(s) for s in state_str])\n",
        "\n",
        "def sample_action(env):\n",
        "    actions = env.getEmptySpaces()\n",
        "    empty_spots_count = len(actions)\n",
        "    picked_action = actions[np.random.randint(0, empty_spots_count)]\n",
        "    action_idx = env.int_from_action(picked_action)\n",
        "    return picked_action, action_idx    \n",
        "\n",
        "def evaluate_policy(agent, env, episodes=5):\n",
        "    returns = []\n",
        "    for _ in range(episodes):\n",
        "        done = False\n",
        "        env.reset()\n",
        "        state = state_to_array(env.getHash())\n",
        "        total_reward = 0.1\n",
        "        \n",
        "        while not done:\n",
        "            state, reward, done, _ = env.step(env.action_from_int(agent.act(state)))\n",
        "            state = state_to_array(state[0])\n",
        "            total_reward += reward\n",
        "        returns.append(total_reward)\n",
        "    return returns"
      ],
      "execution_count": 10,
      "outputs": []
    },
    {
      "cell_type": "code",
      "metadata": {
        "id": "sPyihTn7AF-W"
      },
      "source": [
        "def train_dqn():\n",
        "    env = TicTacToe(n_rows=4, n_cols=4, n_win=4)\n",
        "    eps = 0.01\n",
        "    env.reset()\n",
        "    dqn = DQN(state_dim=4*4, action_dim=4*4)\n",
        "    state = state_to_array(env.getHash())\n",
        "    total_rewards = []\n",
        "\n",
        "\n",
        "    for _ in range(INITIAL_STEPS):\n",
        "        # action = env.action_space.sample()\n",
        "        picked_action, action_idx = sample_action(env)\n",
        "\n",
        "        # next_state, reward, done, _ = env.step(action)\n",
        "        next_state, reward, done, _ = env.step(picked_action)\n",
        "        \n",
        "        next_state = state_to_array(next_state[0])\n",
        "        \n",
        "        dqn.consume_transition(Transition(state, action_idx, next_state, reward, done)  )\n",
        "          \n",
        "        if not done:\n",
        "            state = next_state \n",
        "        else:\n",
        "            env.reset()\n",
        "            state = state_to_array(env.getHash())\n",
        "        \n",
        "\n",
        "    for i in range(TRANSITIONS):\n",
        "        #Epsilon-greedy policy\n",
        "        if random.random() < eps:\n",
        "            action, action_idx = sample_action(env)\n",
        "        else:\n",
        "            action_idx = dqn.act(state)\n",
        "            action = env.action_from_int(action_idx)\n",
        "\n",
        "        next_state, reward, done, _ = env.step(action)\n",
        "        next_state = state_to_array(next_state[0])\n",
        "        dqn.update(Transition(state, action_idx, next_state, reward, done))\n",
        "        \n",
        "        if not done:\n",
        "            state = next_state \n",
        "        else:\n",
        "            env.reset()\n",
        "            state = state_to_array(env.getHash())\n",
        "        \n",
        "        if (i + 1) % (TRANSITIONS//50) == 0:\n",
        "            rewards = evaluate_policy(dqn, env, 30)\n",
        "            total_rewards.append(np.mean(rewards))\n",
        "            print(f\"Step: {i+1}, Reward mean: {np.mean(rewards)}, Reward std: {np.std(rewards)}\")\n",
        "    return total_rewards"
      ],
      "execution_count": 14,
      "outputs": []
    },
    {
      "cell_type": "code",
      "metadata": {
        "colab": {
          "base_uri": "https://localhost:8080/"
        },
        "id": "DhbbykPxxzVs",
        "outputId": "91e0f61e-07e3-404c-9a4f-2d203e819638"
      },
      "source": [
        "rewards = train_dqn()"
      ],
      "execution_count": 15,
      "outputs": [
        {
          "output_type": "stream",
          "name": "stdout",
          "text": [
            "Step: 24000, Reward mean: -9.899999999999999, Reward std: 1.7763568394002505e-15\n",
            "Step: 48000, Reward mean: -9.899999999999999, Reward std: 1.7763568394002505e-15\n",
            "Step: 72000, Reward mean: -9.899999999999999, Reward std: 1.7763568394002505e-15\n",
            "Step: 96000, Reward mean: -9.899999999999999, Reward std: 1.7763568394002505e-15\n",
            "Step: 120000, Reward mean: -9.899999999999999, Reward std: 1.7763568394002505e-15\n",
            "Step: 144000, Reward mean: -0.8999999999999998, Reward std: 2.220446049250313e-16\n",
            "Step: 168000, Reward mean: 1.1000000000000003, Reward std: 2.220446049250313e-16\n",
            "Step: 192000, Reward mean: 0.10000000000000003, Reward std: 2.7755575615628914e-17\n",
            "Step: 216000, Reward mean: 1.1000000000000003, Reward std: 2.220446049250313e-16\n",
            "Step: 240000, Reward mean: 0.10000000000000003, Reward std: 2.7755575615628914e-17\n",
            "Step: 264000, Reward mean: -9.899999999999999, Reward std: 1.7763568394002505e-15\n",
            "Step: 288000, Reward mean: -0.8999999999999998, Reward std: 2.220446049250313e-16\n",
            "Step: 312000, Reward mean: -0.8999999999999998, Reward std: 2.220446049250313e-16\n",
            "Step: 336000, Reward mean: 0.10000000000000003, Reward std: 2.7755575615628914e-17\n",
            "Step: 360000, Reward mean: 1.1000000000000003, Reward std: 2.220446049250313e-16\n",
            "Step: 384000, Reward mean: 0.10000000000000003, Reward std: 2.7755575615628914e-17\n",
            "Step: 408000, Reward mean: -9.899999999999999, Reward std: 1.7763568394002505e-15\n",
            "Step: 432000, Reward mean: 0.10000000000000003, Reward std: 2.7755575615628914e-17\n",
            "Step: 456000, Reward mean: 0.10000000000000003, Reward std: 2.7755575615628914e-17\n",
            "Step: 480000, Reward mean: 1.1000000000000003, Reward std: 2.220446049250313e-16\n",
            "Step: 504000, Reward mean: 0.10000000000000003, Reward std: 2.7755575615628914e-17\n",
            "Step: 528000, Reward mean: 0.10000000000000003, Reward std: 2.7755575615628914e-17\n",
            "Step: 552000, Reward mean: 1.1000000000000003, Reward std: 2.220446049250313e-16\n",
            "Step: 576000, Reward mean: 0.10000000000000003, Reward std: 2.7755575615628914e-17\n",
            "Step: 600000, Reward mean: 1.1000000000000003, Reward std: 2.220446049250313e-16\n",
            "Step: 624000, Reward mean: 0.10000000000000003, Reward std: 2.7755575615628914e-17\n",
            "Step: 648000, Reward mean: -0.8999999999999998, Reward std: 2.220446049250313e-16\n",
            "Step: 672000, Reward mean: 1.1000000000000003, Reward std: 2.220446049250313e-16\n",
            "Step: 696000, Reward mean: 1.1000000000000003, Reward std: 2.220446049250313e-16\n",
            "Step: 720000, Reward mean: 1.1000000000000003, Reward std: 2.220446049250313e-16\n",
            "Step: 744000, Reward mean: 1.1000000000000003, Reward std: 2.220446049250313e-16\n",
            "Step: 768000, Reward mean: 1.1000000000000003, Reward std: 2.220446049250313e-16\n",
            "Step: 792000, Reward mean: 1.1000000000000003, Reward std: 2.220446049250313e-16\n",
            "Step: 816000, Reward mean: -0.8999999999999998, Reward std: 2.220446049250313e-16\n",
            "Step: 840000, Reward mean: 1.1000000000000003, Reward std: 2.220446049250313e-16\n",
            "Step: 864000, Reward mean: 1.1000000000000003, Reward std: 2.220446049250313e-16\n",
            "Step: 888000, Reward mean: 1.1000000000000003, Reward std: 2.220446049250313e-16\n",
            "Step: 912000, Reward mean: 1.1000000000000003, Reward std: 2.220446049250313e-16\n",
            "Step: 936000, Reward mean: 1.1000000000000003, Reward std: 2.220446049250313e-16\n",
            "Step: 960000, Reward mean: 1.1000000000000003, Reward std: 2.220446049250313e-16\n",
            "Step: 984000, Reward mean: 1.1000000000000003, Reward std: 2.220446049250313e-16\n",
            "Step: 1008000, Reward mean: 1.1000000000000003, Reward std: 2.220446049250313e-16\n",
            "Step: 1032000, Reward mean: 1.1000000000000003, Reward std: 2.220446049250313e-16\n",
            "Step: 1056000, Reward mean: 1.1000000000000003, Reward std: 2.220446049250313e-16\n",
            "Step: 1080000, Reward mean: 1.1000000000000003, Reward std: 2.220446049250313e-16\n",
            "Step: 1104000, Reward mean: 1.1000000000000003, Reward std: 2.220446049250313e-16\n",
            "Step: 1128000, Reward mean: 1.1000000000000003, Reward std: 2.220446049250313e-16\n",
            "Step: 1152000, Reward mean: 1.1000000000000003, Reward std: 2.220446049250313e-16\n",
            "Step: 1176000, Reward mean: 1.1000000000000003, Reward std: 2.220446049250313e-16\n",
            "Step: 1200000, Reward mean: 1.1000000000000003, Reward std: 2.220446049250313e-16\n"
          ]
        }
      ]
    },
    {
      "cell_type": "code",
      "metadata": {
        "colab": {
          "base_uri": "https://localhost:8080/",
          "height": 299
        },
        "id": "bJlrK65Fx8CB",
        "outputId": "2ef04d17-ddcc-4e55-ddf9-7f6fc00a36f3"
      },
      "source": [
        "def show_rewards(avg_rewards):\n",
        "    iterations=np.arange(0, len(avg_rewards))\n",
        "    fig, ax = plt.subplots(1, 1)\n",
        "    ax.plot(iterations, avg_rewards)\n",
        "    ax.set_xlabel('iteration')\n",
        "    ax.set_ylabel('reward')\n",
        "    _ = ax.set_title('DQN 4*4 TicTacToe')\n",
        "\n",
        "show_rewards(rewards)"
      ],
      "execution_count": 19,
      "outputs": [
        {
          "output_type": "display_data",
          "data": {
            "image/png": "[encoded data removed]",
            "text/plain": [
              "<Figure size 432x288 with 1 Axes>"
            ]
          },
          "metadata": {
            "needs_background": "light"
          }
        }
      ]
    },
    {
      "cell_type": "code",
      "metadata": {
        "id": "4uBntlMjQgwP"
      },
      "source": [
        "GAMMA = 0.99\n",
        "INITIAL_STEPS = 1024\n",
        "TRANSITIONS = 500000\n",
        "STEPS_PER_UPDATE = 4\n",
        "STEPS_PER_TARGET_UPDATE = STEPS_PER_UPDATE * 1000\n",
        "BATCH_SIZE = 64\n",
        "LEARNING_RATE = 5e-4\n",
        "device = torch.device(\"cuda:0\" if torch.cuda.is_available() else \"cpu\")\n",
        "\n",
        "\n",
        "class DDQN:\n",
        "    def __init__(self, state_dim, action_dim, batch_size=BATCH_SIZE, seed=0):\n",
        "        self.steps = 0 # Do not change        \n",
        "        self.buffer = ExpirienceReplay()\n",
        "        self.batch_size = batch_size        \n",
        "        self.seed = random.seed(seed)\n",
        "        \n",
        "        self.model = DQNModel(state_dim, 64, action_dim)\n",
        "        self.model_target = DQNModel(state_dim, 64, action_dim)\n",
        "        self.optimizer = Adam(self.model.parameters())\n",
        "\n",
        "    def get_model(self):\n",
        "        return self.model\n",
        "\n",
        "    def consume_transition(self, transition):        \n",
        "        self.buffer.add(transition)\n",
        "\n",
        "    def sample_batch(self):\n",
        "        return self.buffer.sample(self.batch_size)\n",
        "        \n",
        "    def train_step(self, batch):\n",
        "        states, actions, rewards, next_states, dones = batch\n",
        "        # Get the action with max Q value\n",
        "        action_values = self.model_target(next_states).detach()\n",
        "        # Notes\n",
        "        # tensor.max(1)[0] returns the values, tensor.max(1)[1] will return indices\n",
        "        # unsqueeze operation --> np.reshape\n",
        "        # Here, we make it from torch.Size([64]) -> torch.Size([64, 1])\n",
        "        max_action_values = action_values.max(1)[0].unsqueeze(1)\n",
        "        \n",
        "        # If done just use reward, else update Q_target with discounted action values\n",
        "        Q_target = rewards + (GAMMA * max_action_values * (1 - dones))\n",
        "        Q_expected = self.model(states).gather(1, actions)\n",
        "        \n",
        "        # Calculate loss\n",
        "        loss = F.mse_loss(Q_expected, Q_target)\n",
        "        self.optimizer.zero_grad()\n",
        "        # backward pass\n",
        "        loss.backward()\n",
        "        # update weights\n",
        "        self.optimizer.step()\n",
        "        \n",
        "        # Update fixed weights\n",
        "        self.update_target_network()\n",
        "        \n",
        "    def update_target_network(self):\n",
        "        # Update weights of a target Q-network here. You may use copy.deepcopy to do this or \n",
        "        # assign a values of network parameters via PyTorch methods.\n",
        "        self.model_target = copy.deepcopy(self.model)\n",
        "\n",
        "    def act(self, state):\n",
        "        # Compute an action. Do not forget to turn state to a Tensor and then turn an action to a numpy array.\n",
        "        state = torch.from_numpy(state).float().unsqueeze(0).to(device)\n",
        "        self.model.eval()\n",
        "        with torch.no_grad():\n",
        "            action_values = self.model(state)\n",
        "        self.model.train()\n",
        "        return np.argmax(action_values.cpu().data.numpy())\n",
        "            \n",
        "        \n",
        "    def update(self, transition):\n",
        "        # You don't need to change this\n",
        "        self.consume_transition(transition)\n",
        "        if self.steps % STEPS_PER_UPDATE == 0:\n",
        "            batch = self.sample_batch()\n",
        "            self.train_step(batch)\n",
        "        if self.steps % STEPS_PER_TARGET_UPDATE == 0:\n",
        "            self.update_target_network()\n",
        "        self.steps += 1\n",
        "\n",
        "    def save(self):\n",
        "        torch.save(self.model.state_dict(), \"agent.pkl\")\n",
        "\n"
      ],
      "execution_count": 23,
      "outputs": []
    },
    {
      "cell_type": "code",
      "metadata": {
        "id": "g4E9lhbzSorM"
      },
      "source": [
        "def train_ddqn():\n",
        "    env = TicTacToe(n_rows=4, n_cols=4, n_win=4)\n",
        "    eps = 0.01\n",
        "    env.reset()\n",
        "    dqn = DDQN(state_dim=4*4, action_dim=4*4)\n",
        "    state = state_to_array(env.getHash())\n",
        "    total_rewards = []\n",
        "\n",
        "\n",
        "    for _ in range(INITIAL_STEPS):\n",
        "        # action = env.action_space.sample()\n",
        "        picked_action, action_idx = sample_action(env)\n",
        "\n",
        "        # next_state, reward, done, _ = env.step(action)\n",
        "        next_state, reward, done, _ = env.step(picked_action)\n",
        "        \n",
        "        next_state = state_to_array(next_state[0])\n",
        "        \n",
        "        dqn.consume_transition(Transition(state, action_idx, next_state, reward, done)  )\n",
        "          \n",
        "        if not done:\n",
        "            state = next_state \n",
        "        else:\n",
        "            env.reset()\n",
        "            state = state_to_array(env.getHash())\n",
        "        \n",
        "\n",
        "    for i in range(TRANSITIONS):\n",
        "        #Epsilon-greedy policy\n",
        "        if random.random() < eps:\n",
        "            action, action_idx = sample_action(env)\n",
        "        else:\n",
        "            action_idx = dqn.act(state)\n",
        "            action = env.action_from_int(action_idx)\n",
        "\n",
        "        next_state, reward, done, _ = env.step(action)\n",
        "        next_state = state_to_array(next_state[0])\n",
        "        dqn.update(Transition(state, action_idx, next_state, reward, done))\n",
        "        \n",
        "        if not done:\n",
        "            state = next_state \n",
        "        else:\n",
        "            env.reset()\n",
        "            state = state_to_array(env.getHash())\n",
        "        \n",
        "        if (i + 1) % (TRANSITIONS//50) == 0:\n",
        "            rewards = evaluate_policy(dqn, env, 30)\n",
        "            total_rewards.append(np.mean(rewards))\n",
        "            print(f\"Step: {i+1}, Reward mean: {np.mean(rewards)}, Reward std: {np.std(rewards)}\")\n",
        "    return total_rewards"
      ],
      "execution_count": 21,
      "outputs": []
    },
    {
      "cell_type": "code",
      "metadata": {
        "colab": {
          "base_uri": "https://localhost:8080/"
        },
        "id": "ipu8zXjs0Hbr",
        "outputId": "842e0cb4-6895-4599-d50f-d1e3086795d9"
      },
      "source": [
        "rewards = train_ddqn()"
      ],
      "execution_count": 24,
      "outputs": [
        {
          "output_type": "stream",
          "name": "stdout",
          "text": [
            "Step: 10000, Reward mean: -9.899999999999999, Reward std: 1.7763568394002505e-15\n",
            "Step: 20000, Reward mean: -9.899999999999999, Reward std: 1.7763568394002505e-15\n",
            "Step: 30000, Reward mean: -9.899999999999999, Reward std: 1.7763568394002505e-15\n",
            "Step: 40000, Reward mean: -9.899999999999999, Reward std: 1.7763568394002505e-15\n",
            "Step: 50000, Reward mean: -9.899999999999999, Reward std: 1.7763568394002505e-15\n",
            "Step: 60000, Reward mean: -9.899999999999999, Reward std: 1.7763568394002505e-15\n",
            "Step: 70000, Reward mean: -9.899999999999999, Reward std: 1.7763568394002505e-15\n",
            "Step: 80000, Reward mean: -9.899999999999999, Reward std: 1.7763568394002505e-15\n",
            "Step: 90000, Reward mean: -9.899999999999999, Reward std: 1.7763568394002505e-15\n",
            "Step: 100000, Reward mean: -9.899999999999999, Reward std: 1.7763568394002505e-15\n",
            "Step: 110000, Reward mean: -9.899999999999999, Reward std: 1.7763568394002505e-15\n",
            "Step: 120000, Reward mean: -9.899999999999999, Reward std: 1.7763568394002505e-15\n",
            "Step: 130000, Reward mean: -9.899999999999999, Reward std: 1.7763568394002505e-15\n",
            "Step: 140000, Reward mean: -9.899999999999999, Reward std: 1.7763568394002505e-15\n",
            "Step: 150000, Reward mean: -9.899999999999999, Reward std: 1.7763568394002505e-15\n",
            "Step: 160000, Reward mean: -9.899999999999999, Reward std: 1.7763568394002505e-15\n",
            "Step: 170000, Reward mean: -9.899999999999999, Reward std: 1.7763568394002505e-15\n",
            "Step: 180000, Reward mean: -9.899999999999999, Reward std: 1.7763568394002505e-15\n",
            "Step: 190000, Reward mean: -9.899999999999999, Reward std: 1.7763568394002505e-15\n",
            "Step: 200000, Reward mean: 1.1000000000000003, Reward std: 2.220446049250313e-16\n",
            "Step: 210000, Reward mean: 1.1000000000000003, Reward std: 2.220446049250313e-16\n",
            "Step: 220000, Reward mean: 1.1000000000000003, Reward std: 2.220446049250313e-16\n",
            "Step: 230000, Reward mean: 1.1000000000000003, Reward std: 2.220446049250313e-16\n",
            "Step: 240000, Reward mean: 1.1000000000000003, Reward std: 2.220446049250313e-16\n",
            "Step: 250000, Reward mean: 1.1000000000000003, Reward std: 2.220446049250313e-16\n",
            "Step: 260000, Reward mean: 1.1000000000000003, Reward std: 2.220446049250313e-16\n",
            "Step: 270000, Reward mean: 1.1000000000000003, Reward std: 2.220446049250313e-16\n",
            "Step: 280000, Reward mean: -0.8999999999999998, Reward std: 2.220446049250313e-16\n",
            "Step: 290000, Reward mean: -0.8999999999999998, Reward std: 2.220446049250313e-16\n",
            "Step: 300000, Reward mean: 1.1000000000000003, Reward std: 2.220446049250313e-16\n",
            "Step: 310000, Reward mean: 1.1000000000000003, Reward std: 2.220446049250313e-16\n",
            "Step: 320000, Reward mean: 1.1000000000000003, Reward std: 2.220446049250313e-16\n",
            "Step: 330000, Reward mean: 1.1000000000000003, Reward std: 2.220446049250313e-16\n",
            "Step: 340000, Reward mean: 1.1000000000000003, Reward std: 2.220446049250313e-16\n",
            "Step: 350000, Reward mean: 1.1000000000000003, Reward std: 2.220446049250313e-16\n",
            "Step: 360000, Reward mean: 1.1000000000000003, Reward std: 2.220446049250313e-16\n",
            "Step: 370000, Reward mean: 1.1000000000000003, Reward std: 2.220446049250313e-16\n",
            "Step: 380000, Reward mean: 1.1000000000000003, Reward std: 2.220446049250313e-16\n",
            "Step: 390000, Reward mean: 1.1000000000000003, Reward std: 2.220446049250313e-16\n",
            "Step: 400000, Reward mean: 1.1000000000000003, Reward std: 2.220446049250313e-16\n",
            "Step: 410000, Reward mean: 1.1000000000000003, Reward std: 2.220446049250313e-16\n",
            "Step: 420000, Reward mean: 1.1000000000000003, Reward std: 2.220446049250313e-16\n",
            "Step: 430000, Reward mean: 1.1000000000000003, Reward std: 2.220446049250313e-16\n",
            "Step: 440000, Reward mean: 1.1000000000000003, Reward std: 2.220446049250313e-16\n",
            "Step: 450000, Reward mean: 1.1000000000000003, Reward std: 2.220446049250313e-16\n",
            "Step: 460000, Reward mean: 1.1000000000000003, Reward std: 2.220446049250313e-16\n",
            "Step: 470000, Reward mean: 1.1000000000000003, Reward std: 2.220446049250313e-16\n",
            "Step: 480000, Reward mean: 1.1000000000000003, Reward std: 2.220446049250313e-16\n",
            "Step: 490000, Reward mean: 1.1000000000000003, Reward std: 2.220446049250313e-16\n",
            "Step: 500000, Reward mean: 1.1000000000000003, Reward std: 2.220446049250313e-16\n"
          ]
        }
      ]
    },
    {
      "cell_type": "code",
      "metadata": {
        "colab": {
          "base_uri": "https://localhost:8080/",
          "height": 299
        },
        "id": "vdNjWdIu0CEN",
        "outputId": "ee157215-8e74-404d-dbfb-1b79212b5c55"
      },
      "source": [
        "def show_rewards(avg_rewards):\n",
        "    iterations=np.arange(0, len(avg_rewards))\n",
        "    fig, ax = plt.subplots(1, 1)\n",
        "    ax.plot(iterations, avg_rewards)\n",
        "    ax.set_xlabel('iteration')\n",
        "    ax.set_ylabel('reward')\n",
        "    _ = ax.set_title('DDQN 4*4 TicTacToe')\n",
        "\n",
        "show_rewards(rewards)"
      ],
      "execution_count": 25,
      "outputs": [
        {
          "output_type": "display_data",
          "data": {
            "image/png": "[encoded data removed]",
            "text/plain": [
              "<Figure size 432x288 with 1 Axes>"
            ]
          },
          "metadata": {
            "needs_background": "light"
          }
        }
      ]
    },
    {
      "cell_type": "markdown",
      "metadata": {
        "id": "bQ5roXzS3BIV"
      },
      "source": [
        "Как можно видеть, double DQN сходится быстрее, обучается стабильнее, но поначалу тоже имеются скачки."
      ]
    },
    {
      "cell_type": "markdown",
      "metadata": {
        "id": "vCev441tbO3o"
      },
      "source": [
        "# Часть третья: расширим и углубим поиск #\n",
        "Крестики-нолики -- это, конечно, далеко не го, и обычный альфа-бета поиск с отсечением здесь наверняка может работать идеально вплоть до довольно больших досок. Однако мы всё-таки для этого учебного задания будем реализовывать более практически релевантный метод MCTS -- заодно фактически получится и упражнение на многоруких бандитов.\n"
      ]
    },
    {
      "cell_type": "markdown",
      "metadata": {
        "id": "348dzft3c4EB"
      },
      "source": [
        "1. Реализуйте rollouts со случайной стратегией и (опционально) rollouts с неслучайной, но простой стратегией (например, основанной на дополнении нескольких паттернов или на Q-функции, которая у вас получилась в первом пункте).\n",
        "2. Реализуйте MCTS-поиск с этими rollouts для крестиков-ноликов на досках разного размера, сравните полученные стратегии между собой и со стратегиями, обученными в первых двух частях.\n",
        "\n",
        "\n",
        "Источник: \n",
        "https://gist.github.com/qpwo/c538c6f73727e254fdc7fab81024f6e1"
      ]
    },
    {
      "cell_type": "code",
      "metadata": {
        "id": "vNW0c52YwqhF"
      },
      "source": [
        "class MCTS:\n",
        "    \"Monte Carlo tree searcher. First rollout the tree then choose a move.\"\n",
        "\n",
        "    def __init__(self, exploration_weight=1):\n",
        "        self.Q = defaultdict(int)  # total reward of each node\n",
        "        self.N = defaultdict(int)  # total visit count for each node\n",
        "        self.children = dict()  # children of each node\n",
        "        self.exploration_weight = exploration_weight\n",
        "\n",
        "    def choose(self, node):\n",
        "        \"Choose the best successor of node. (Choose a move in the game)\"\n",
        "        if node.is_terminal():\n",
        "            raise RuntimeError(f\"choose called on terminal node {node}\")\n",
        "\n",
        "        if node not in self.children:\n",
        "            return node.find_random_child()\n",
        "\n",
        "        def score(n):\n",
        "            if self.N[n] == 0:\n",
        "                return float(\"-inf\")  # avoid unseen moves\n",
        "            return self.Q[n] / self.N[n]  # average reward\n",
        "\n",
        "        return max(self.children[node], key=score)\n",
        "\n",
        "\n",
        "    def do_rollout(self, node):\n",
        "        \"Make the tree one layer better. (Train for one iteration.)\"\n",
        "        path = self._select(node)\n",
        "        leaf = path[-1]\n",
        "        self._expand(leaf)\n",
        "        reward = self._simulate(leaf)\n",
        "        self._backpropagate(path, reward)\n",
        "\n",
        "    def do_rollout_with_reward(self, node):\n",
        "        path = self._select(node)\n",
        "        leaf = path[-1]\n",
        "        self._expand(leaf)\n",
        "        reward = self._simulate(leaf)\n",
        "        self._backpropagate(path, reward)\n",
        "        return reward\n",
        "\n",
        "    def _select(self, node):\n",
        "        \"Find an unexplored descendent of `node`\"\n",
        "        path = []\n",
        "        while True:\n",
        "            path.append(node)\n",
        "            if node not in self.children or not self.children[node]:\n",
        "                # node is either unexplored or terminal\n",
        "                return path\n",
        "            unexplored = self.children[node] - self.children.keys()\n",
        "            if unexplored:\n",
        "                n = unexplored.pop()\n",
        "                path.append(n)\n",
        "                return path\n",
        "            node = self._uct_select(node)  # descend a layer deeper\n",
        "\n",
        "    def _expand(self, node):\n",
        "        \"Update the `children` dict with the children of `node`\"\n",
        "        if node in self.children:\n",
        "            return  # already expanded\n",
        "        self.children[node] = node.find_children()\n",
        "\n",
        "    def _simulate(self, node):\n",
        "        \"Returns the reward for a random simulation (to completion) of `node`\"\n",
        "        invert_reward = False\n",
        "        while True:\n",
        "            if node.is_terminal():\n",
        "                reward = node.reward()\n",
        "                return 1 - reward if invert_reward else reward\n",
        "            node = node.find_random_child()\n",
        "            invert_reward = not invert_reward\n",
        "\n",
        "    def _backpropagate(self, path, reward):\n",
        "        \"Send the reward back up to the ancestors of the leaf\"\n",
        "        for node in reversed(path):\n",
        "            self.N[node] += 1\n",
        "            self.Q[node] += reward\n",
        "            reward = 1 - reward  # 1 for me is 0 for my enemy, and vice versa\n",
        "\n",
        "    def _uct_select(self, node):\n",
        "        \"Select a child of node, balancing exploration & exploitation\"\n",
        "\n",
        "        # All children of node should already be expanded:\n",
        "        assert all(n in self.children for n in self.children[node])\n",
        "\n",
        "        log_N_vertex = math.log(self.N[node])\n",
        "\n",
        "        def uct(n):\n",
        "            \"Upper confidence bound for trees\"\n",
        "            return self.Q[n] / self.N[n] + self.exploration_weight * math.sqrt(\n",
        "                log_N_vertex / self.N[n]\n",
        "            )\n",
        "\n",
        "        return max(self.children[node], key=uct)\n",
        "\n",
        "\n",
        "class Node(ABC):\n",
        "    \"\"\"\n",
        "    A representation of a single board state.\n",
        "    MCTS works by constructing a tree of these Nodes.\n",
        "    Could be e.g. a chess or checkers board state.\n",
        "    \"\"\"\n",
        "\n",
        "    @abstractmethod\n",
        "    def find_children(self):\n",
        "        \"All possible successors of this board state\"\n",
        "        return set()\n",
        "\n",
        "    @abstractmethod\n",
        "    def find_random_child(self):\n",
        "        \"Random successor of this board state (for more efficient simulation)\"\n",
        "        return None\n",
        "\n",
        "    @abstractmethod\n",
        "    def is_terminal(self):\n",
        "        \"Returns True if the node has no children\"\n",
        "        return True\n",
        "\n",
        "    @abstractmethod\n",
        "    def reward(self):\n",
        "        \"Assumes `self` is terminal node. 1=win, 0=loss, .5=tie, etc\"\n",
        "        return 0\n",
        "\n",
        "    @abstractmethod\n",
        "    def __hash__(self):\n",
        "        \"Nodes must be hashable\"\n",
        "        return 123456789\n",
        "\n",
        "    @abstractmethod\n",
        "    def __eq__(node1, node2):\n",
        "        \"Nodes must be comparable\"\n",
        "        return True"
      ],
      "execution_count": 27,
      "outputs": []
    },
    {
      "cell_type": "code",
      "metadata": {
        "id": "DCrrn-mp6bB0"
      },
      "source": [
        "from collections import namedtuple\n",
        "from random import choice\n",
        "\n",
        "_TTTB = namedtuple(\"TicTacToeBoard\", \"tup turn winner terminal\")\n",
        "\n",
        "# Inheriting from a namedtuple is convenient because it makes the class\n",
        "# immutable and predefines __init__, __repr__, __hash__, __eq__, and others\n",
        "class TicTacToeBoard(_TTTB, Node):\n",
        "\n",
        "    def find_children(board):\n",
        "        if board.terminal:  # If the game is finished then no moves can be made\n",
        "            return set()\n",
        "        # Otherwise, you can make a move in each of the empty spots\n",
        "        return {\n",
        "            board.make_move(i) for i, value in enumerate(board.tup) if value is None\n",
        "        }\n",
        "\n",
        "\n",
        "    def find_random_child(board):\n",
        "        if board.terminal:\n",
        "            return None  # If the game is finished then no moves can be made\n",
        "        empty_spots = [i for i, value in enumerate(board.tup) if value is None]\n",
        "        return board.make_move(choice(empty_spots))\n",
        "\n",
        "    def reward(board):\n",
        "        if board.winner == True:\n",
        "            return -10 # MCTS lost\n",
        "        elif board.winner == None:\n",
        "            return 0.5\n",
        "        else:\n",
        "            return 1  # MCTS won\n",
        "\n",
        "    def is_terminal(board):\n",
        "        return board.terminal\n",
        "\n",
        "    def make_move(board, index):\n",
        "        tup = board.tup[:index] + (board.turn,) + board.tup[index + 1 :]\n",
        "        turn = not board.turn\n",
        "        winner = _find_winner(tup)\n",
        "        is_terminal = (winner is not None) or not any(v is None for v in tup)\n",
        "        return TicTacToeBoard(tup, turn, winner, is_terminal)\n",
        "\n",
        "\n",
        "def play_game(rollouts=50):\n",
        "    tree = MCTS()\n",
        "    board = new_tic_tac_toe_board()\n",
        "    while True:\n",
        "        empty_spots = [i for i, value in enumerate(board.tup) if value is None]\n",
        "        index = choice(empty_spots)\n",
        "        board = board.make_move(index)\n",
        "        if board.terminal:\n",
        "            break\n",
        "        # You can train as you go, or only at the beginning.\n",
        "        # Here, we train as we go, doing fifty rollouts each turn.\n",
        "        for _ in range(rollouts):\n",
        "            tree.do_rollout(board)\n",
        "        board = tree.choose(board)\n",
        "        if board.terminal:\n",
        "            break\n",
        "    return board.reward()\n",
        "\n",
        "\n",
        "def get_rollout_rewards(rollouts=50):\n",
        "    tree = MCTS()\n",
        "    board = new_tic_tac_toe_board()\n",
        "    rollout_results = []\n",
        "    for _ in range(rollouts):\n",
        "        rollout_results.append(tree.do_rollout_with_reward(board))\n",
        "    return rollout_results\n",
        "\n",
        "\n",
        "def simulate(episodes=50, rollouts=50):\n",
        "    rewards = []\n",
        "    for _ in range(episodes):\n",
        "        rewards.append(play_game(rollouts))\n",
        "    \n",
        "    return np.mean(np.array(rewards))\n",
        "\n",
        "\n",
        "def _winning_combos():\n",
        "    for start in range(0, 16, 4):  # four in a row\n",
        "        yield (start, start + 1, start + 2, start + 3)\n",
        "    for start in range(4):  # four in a column\n",
        "        yield (start, start + 4, start + 8, start + 12)\n",
        "    yield (0, 5, 10, 15)  # down-right diagonal\n",
        "    yield (3, 6, 9, 12)  # down-left diagonal\n",
        "\n",
        "\n",
        "def _find_winner(tup):\n",
        "    \"Returns None if no winner, True if X wins, False if O wins\"\n",
        "    for i1, i2, i3, i4 in _winning_combos():\n",
        "        v1, v2, v3, v4 = tup[i1], tup[i2], tup[i3], tup[i4]\n",
        "        if False is v1 is v2 is v3 is v4:\n",
        "            return False\n",
        "        if True is v1 is v2 is v3 is v4:\n",
        "            return True\n",
        "    return None\n",
        "\n",
        "\n",
        "def new_tic_tac_toe_board():\n",
        "    return TicTacToeBoard(tup=(None,) * 16, turn=True, winner=None, terminal=False)   "
      ],
      "execution_count": 28,
      "outputs": []
    },
    {
      "cell_type": "code",
      "metadata": {
        "id": "XQd7WUWH2syx"
      },
      "source": [
        "rewards = []\n",
        "\n",
        "for _ in range(100):\n",
        "    rewards.append(np.mean(np.array(get_rollout_rewards(rollouts=25))))"
      ],
      "execution_count": 30,
      "outputs": []
    },
    {
      "cell_type": "code",
      "metadata": {
        "colab": {
          "base_uri": "https://localhost:8080/",
          "height": 299
        },
        "id": "Jo14ICqe6Ej7",
        "outputId": "27581e27-26a4-416d-dd3a-5be9ef934e31"
      },
      "source": [
        "def show_rewards(avg_rewards):\n",
        "    iterations=np.arange(0, len(avg_rewards))\n",
        "    fig, ax = plt.subplots(1, 1)\n",
        "    ax.plot(iterations, avg_rewards)\n",
        "    ax.set_xlabel('iteration')\n",
        "    ax.set_ylabel('reward')\n",
        "    _ = ax.set_title('MCTS 4*4 TicTacToe')\n",
        "\n",
        "show_rewards(rewards)"
      ],
      "execution_count": 31,
      "outputs": [
        {
          "output_type": "display_data",
          "data": {
            "image/png": "[encoded data removed]",
            "text/plain": [
              "<Figure size 432x288 with 1 Axes>"
            ]
          },
          "metadata": {}
        }
      ]
    },
    {
      "cell_type": "code",
      "metadata": {
        "id": "5L8tnjst7vsx"
      },
      "source": [
        "def _winning_combos():\n",
        "    for start in range(0, 9, 3):  # three in a row\n",
        "        yield (start, start + 1, start + 2)\n",
        "    for start in range(3):  # three in a column\n",
        "        yield (start, start + 3, start + 6)\n",
        "    yield (0, 4, 8)  # down-right diagonal\n",
        "    yield (2, 4, 6)  # down-left diagonal\n",
        "\n",
        "\n",
        "def _find_winner(tup):\n",
        "    \"Returns None if no winner, True if X wins, False if O wins\"\n",
        "    for i1, i2, i3 in _winning_combos():\n",
        "        v1, v2, v3 = tup[i1], tup[i2], tup[i3]\n",
        "        if False is v1 is v2 is v3:\n",
        "            return False\n",
        "        if True is v1 is v2 is v3:\n",
        "            return True\n",
        "    return None\n",
        "\n",
        "\n",
        "def new_tic_tac_toe_board():\n",
        "    return TicTacToeBoard(tup=(None,) * 9, turn=True, winner=None, terminal=False)"
      ],
      "execution_count": 33,
      "outputs": []
    },
    {
      "cell_type": "code",
      "metadata": {
        "id": "pvplnsj-738k"
      },
      "source": [
        "rewards = []\n",
        "\n",
        "for _ in range(100):\n",
        "    rewards.append(np.mean(np.array(get_rollout_rewards(rollouts=25))))"
      ],
      "execution_count": 34,
      "outputs": []
    },
    {
      "cell_type": "code",
      "metadata": {
        "colab": {
          "base_uri": "https://localhost:8080/",
          "height": 299
        },
        "id": "FqVUzL3176Mf",
        "outputId": "ee45a4ea-4ca0-45e0-dcb7-e6bf41e1f0e4"
      },
      "source": [
        "def show_rewards(avg_rewards):\n",
        "    iterations=np.arange(0, len(avg_rewards))\n",
        "    fig, ax = plt.subplots(1, 1)\n",
        "    ax.plot(iterations, avg_rewards)\n",
        "    ax.set_xlabel('iteration')\n",
        "    ax.set_ylabel('reward')\n",
        "    _ = ax.set_title('MCTS 3*3 TicTacToe')\n",
        "\n",
        "show_rewards(rewards)"
      ],
      "execution_count": 35,
      "outputs": [
        {
          "output_type": "display_data",
          "data": {
            "image/png": "[encoded data removed]",
            "text/plain": [
              "<Figure size 432x288 with 1 Axes>"
            ]
          },
          "metadata": {}
        }
      ]
    },
    {
      "cell_type": "markdown",
      "metadata": {
        "id": "0vGbDwVPFARk"
      },
      "source": [
        "Попробуем добавить стратегию из DDQN "
      ]
    },
    {
      "cell_type": "code",
      "metadata": {
        "colab": {
          "base_uri": "https://localhost:8080/"
        },
        "id": "Psjab_so8LxE",
        "outputId": "26570d5c-7305-4d09-f338-9428513f6278"
      },
      "source": [
        "TRANSITIONS = 200000\n",
        "\n",
        "def train_ddqn():\n",
        "    env = TicTacToe(n_rows=3, n_cols=3, n_win=3)\n",
        "    eps = 0.01\n",
        "    env.reset()\n",
        "    dqn = DDQN(state_dim=3*3, action_dim=3*3)\n",
        "    state = state_to_array(env.getHash())\n",
        "    total_rewards = []\n",
        "\n",
        "\n",
        "    for _ in range(INITIAL_STEPS):\n",
        "        # action = env.action_space.sample()\n",
        "        picked_action, action_idx = sample_action(env)\n",
        "\n",
        "        # next_state, reward, done, _ = env.step(action)\n",
        "        next_state, reward, done, _ = env.step(picked_action)\n",
        "        \n",
        "        next_state = state_to_array(next_state[0])\n",
        "        \n",
        "        dqn.consume_transition(Transition(state, action_idx, next_state, reward, done)  )\n",
        "          \n",
        "        if not done:\n",
        "            state = next_state \n",
        "        else:\n",
        "            env.reset()\n",
        "            state = state_to_array(env.getHash())\n",
        "        \n",
        "\n",
        "    for i in range(TRANSITIONS):\n",
        "        #Epsilon-greedy policy\n",
        "        if random.random() < eps:\n",
        "            action, action_idx = sample_action(env)\n",
        "        else:\n",
        "            action_idx = dqn.act(state)\n",
        "            action = env.action_from_int(action_idx)\n",
        "\n",
        "        next_state, reward, done, _ = env.step(action)\n",
        "        next_state = state_to_array(next_state[0])\n",
        "        dqn.update(Transition(state, action_idx, next_state, reward, done))\n",
        "        \n",
        "        if not done:\n",
        "            state = next_state \n",
        "        else:\n",
        "            env.reset()\n",
        "            state = state_to_array(env.getHash())\n",
        "        \n",
        "        if (i + 1) % (TRANSITIONS//10) == 0:\n",
        "            rewards = evaluate_policy(dqn, env, 30)\n",
        "            total_rewards.append(np.mean(rewards))\n",
        "            print(f\"Step: {i+1}, Reward mean: {np.mean(rewards)}, Reward std: {np.std(rewards)}\")\n",
        "    return dqn.get_model()\n",
        "\n",
        "model = train_ddqn()"
      ],
      "execution_count": 41,
      "outputs": [
        {
          "output_type": "stream",
          "name": "stdout",
          "text": [
            "Step: 20000, Reward mean: 1.1000000000000003, Reward std: 2.220446049250313e-16\n",
            "Step: 40000, Reward mean: 1.1000000000000003, Reward std: 2.220446049250313e-16\n",
            "Step: 60000, Reward mean: -0.8999999999999998, Reward std: 2.220446049250313e-16\n",
            "Step: 80000, Reward mean: 0.10000000000000003, Reward std: 2.7755575615628914e-17\n",
            "Step: 100000, Reward mean: 1.1000000000000003, Reward std: 2.220446049250313e-16\n",
            "Step: 120000, Reward mean: 1.1000000000000003, Reward std: 2.220446049250313e-16\n",
            "Step: 140000, Reward mean: 1.1000000000000003, Reward std: 2.220446049250313e-16\n",
            "Step: 160000, Reward mean: 1.1000000000000003, Reward std: 2.220446049250313e-16\n",
            "Step: 180000, Reward mean: 1.1000000000000003, Reward std: 2.220446049250313e-16\n",
            "Step: 200000, Reward mean: 1.1000000000000003, Reward std: 2.220446049250313e-16\n"
          ]
        }
      ]
    },
    {
      "cell_type": "code",
      "metadata": {
        "id": "h1R81_RKCgIw"
      },
      "source": [
        "def act(model, state):\n",
        "    state = torch.from_numpy(state).float().unsqueeze(0).to(device)    \n",
        "    with torch.no_grad():\n",
        "        action_values = self.model(state)    \n",
        "    return np.argmax(action_values.cpu().data.numpy())"
      ],
      "execution_count": 43,
      "outputs": []
    },
    {
      "cell_type": "code",
      "metadata": {
        "id": "CvTgnJIzCq8f"
      },
      "source": [
        "def play_game(rollouts=50):\n",
        "    tree = MCTS()\n",
        "    board = new_tic_tac_toe_board()\n",
        "    while True:\n",
        "        empty_spots = [i for i, value in enumerate(board.tup) if value is None]\n",
        "        index = act(model, empty_spots)\n",
        "        board = board.make_move(index)\n",
        "        if board.terminal:\n",
        "            break\n",
        "        # You can train as you go, or only at the beginning.\n",
        "        # Here, we train as we go, doing fifty rollouts each turn.\n",
        "        for _ in range(rollouts):\n",
        "            tree.do_rollout(board)\n",
        "        board = tree.choose(board)\n",
        "        if board.terminal:\n",
        "            break\n",
        "    return board.reward()"
      ],
      "execution_count": 44,
      "outputs": []
    },
    {
      "cell_type": "code",
      "metadata": {
        "id": "ykcI5uTWEsPk"
      },
      "source": [
        "rewards = []\n",
        "\n",
        "for _ in range(100):\n",
        "    rewards.append(np.mean(np.array(get_rollout_rewards(rollouts=25))))"
      ],
      "execution_count": 52,
      "outputs": []
    },
    {
      "cell_type": "code",
      "metadata": {
        "colab": {
          "base_uri": "https://localhost:8080/",
          "height": 299
        },
        "id": "tQ6sOxKjEvw6",
        "outputId": "367af0a5-01b6-4977-e832-2f11d56066e8"
      },
      "source": [
        "def show_rewards(avg_rewards):\n",
        "    iterations=np.arange(0, len(avg_rewards))\n",
        "    fig, ax = plt.subplots(1, 1)\n",
        "    ax.plot(iterations, avg_rewards)\n",
        "    ax.set_xlabel('iteration')\n",
        "    ax.set_ylabel('reward')\n",
        "    _ = ax.set_title('MCTS 3*3 + DDQN TicTacToe')\n",
        "\n",
        "show_rewards(rewards)"
      ],
      "execution_count": 53,
      "outputs": [
        {
          "output_type": "display_data",
          "data": {
            "image/png": "[encoded data removed]",
            "text/plain": [
              "<Figure size 432x288 with 1 Axes>"
            ]
          },
          "metadata": {}
        }
      ]
    },
    {
      "cell_type": "markdown",
      "metadata": {
        "id": "Svhg3lGu-3XG"
      },
      "source": [
        "Результат ожидаемо получился лучше."
      ]
    }
  ]
}